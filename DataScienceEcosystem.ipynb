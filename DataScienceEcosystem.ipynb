{
 "cells": [
  {
   "cell_type": "markdown",
   "id": "67560fed-5e8a-4acc-96e2-9ecea9444881",
   "metadata": {},
   "source": [
    "# Data Science Tools and Ecosystem"
   ]
  },
  {
   "cell_type": "markdown",
   "id": "7e8c3b9c-7fde-4a9c-bef1-79861ce12c6e",
   "metadata": {},
   "source": [
    "In this notebook, Data Science Tools and Ecosystem are summarized."
   ]
  },
  {
   "cell_type": "markdown",
   "id": "8d477590-6bbb-43bc-bf6a-997323e6c14e",
   "metadata": {},
   "source": [
    "**Objectives:**<br>\n",
    "- List some popular languages used in Data Science<br>\n",
    "- List some popular libraries used in Data Science<br>\n",
    "- Write and execute code cells<br>\n",
    "- Write and use markdown cells"
   ]
  },
  {
   "cell_type": "markdown",
   "id": "d03e3d67-e71d-4a41-a8d2-4d285b7b0e82",
   "metadata": {},
   "source": [
    "Some of the popular languages that Data Scientists use are:<br>\n",
    "1-Python<br>\n",
    "2-R<br>\n",
    "3-Julia<br>\n",
    "4-SQL"
   ]
  },
  {
   "cell_type": "markdown",
   "id": "284c960e-d9cc-4c49-a1e3-1a7158709c66",
   "metadata": {},
   "source": [
    "Some of the commonly used libraries used by Data Scientists include:<br>\n",
    "1-numpy<br>\n",
    "2-pandas<br>\n",
    "3-matplotlib<br>\n",
    "4-dplyr<br>\n",
    "5-tidyr"
   ]
  },
  {
   "cell_type": "markdown",
   "id": "5b57af3b-f7e0-435a-ae7d-6d4068ceeaf7",
   "metadata": {},
   "source": [
    "| Data Science Tools |\n",
    "| --- |\n",
    "| Google Colab |\n",
    "| Apache Spark |\n",
    "| Jupyter Notebook |"
   ]
  },
  {
   "cell_type": "markdown",
   "id": "e9b36045-f5e8-4438-8fff-05b714570ccf",
   "metadata": {
    "tags": []
   },
   "source": [
    "### Below are a few examples of evaluating arithmetic expressions in Python\n",
    "\n",
    "$\\sum x = y + z$\n",
    "\n",
    "$c^2 = a^2 + b^2$\n",
    "\n",
    "$(3 + 4)^2 = 49$"
   ]
  },
  {
   "cell_type": "code",
   "execution_count": 1,
   "id": "66169273-fa24-45e5-b289-6f153fe6956e",
   "metadata": {
    "tags": []
   },
   "outputs": [
    {
     "data": {
      "text/plain": [
       "17"
      ]
     },
     "execution_count": 1,
     "metadata": {},
     "output_type": "execute_result"
    }
   ],
   "source": [
    "# This a simple arithmetic expression to mutiply then add integers\n",
    "\n",
    "(3*4)+5"
   ]
  },
  {
   "cell_type": "code",
   "execution_count": 2,
   "id": "443994bb-375b-4542-b28f-3bf40712d801",
   "metadata": {
    "tags": []
   },
   "outputs": [
    {
     "data": {
      "text/plain": [
       "3.3333333333333335"
      ]
     },
     "execution_count": 2,
     "metadata": {},
     "output_type": "execute_result"
    }
   ],
   "source": [
    "# This will convert 200 minutes to hours by diving by 60\n",
    "\n",
    "200/60"
   ]
  },
  {
   "cell_type": "markdown",
   "id": "506362d4-e8b8-4c5d-9ca1-3a8d0ea148ee",
   "metadata": {},
   "source": [
    "## Author\n",
    "Gabriel Horacio Re Ecke"
   ]
  },
  {
   "cell_type": "code",
   "execution_count": null,
   "id": "86a5d779-095c-4a88-8f67-eea44dd1de17",
   "metadata": {},
   "outputs": [],
   "source": []
  }
 ],
 "metadata": {
  "kernelspec": {
   "display_name": "Python",
   "language": "python",
   "name": "conda-env-python-py"
  },
  "language_info": {
   "codemirror_mode": {
    "name": "ipython",
    "version": 3
   },
   "file_extension": ".py",
   "mimetype": "text/x-python",
   "name": "python",
   "nbconvert_exporter": "python",
   "pygments_lexer": "ipython3",
   "version": "3.7.12"
  }
 },
 "nbformat": 4,
 "nbformat_minor": 5
}
